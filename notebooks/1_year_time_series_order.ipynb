{
 "cells": [
  {
   "cell_type": "code",
   "execution_count": 1,
   "metadata": {},
   "outputs": [
    {
     "name": "stdout",
     "output_type": "stream",
     "text": [
      "usage: porder [-h]\n",
      "              {version,readme,quota,shp2geojson,base64,simplify,idlist,difflist,idsplit,idcheck,bundles,order,ordersize,ostate,stats,download,multipart,multiproc}\n",
      "              ...\n",
      "\n",
      "Ordersv2 Simple Client\n",
      "\n",
      "positional arguments:\n",
      "  {version,readme,quota,shp2geojson,base64,simplify,idlist,difflist,idsplit,idcheck,bundles,order,ordersize,ostate,stats,download,multipart,multiproc}\n",
      "    version             Prints porder version and exists\n",
      "    readme              Go the web based porder readme page\n",
      "    quota               Prints your Planet Quota Details\n",
      "    shp2geojson         Convert all shapefiles in folder to GeoJSON\n",
      "    base64              Base 64 encode a JSON file\n",
      "    simplify            Simplifies geometry to number of vertices specified\n",
      "                        using Visvalingam-Wyatt line simplification algorithm\n",
      "    idlist              Get idlist using geometry & filters\n",
      "    difflist            Checks the difference between local files and\n",
      "                        available Planet assets\n",
      "    idsplit             Splits ID list incase you want to run them in small\n",
      "                        batches\n",
      "    idcheck             Check idlist for estimating clipped area\n",
      "    bundles             Check bundles of assets for given tiem type\n",
      "    order               Place an order & get order url currently supports\n",
      "                        \"toar\",\"clip\",\"composite\",\"reproject\",\"compression\"\n",
      "    ordersize           Estimate total download size\n",
      "    ostate              Get list of orders by state and date range\n",
      "    stats               Prints number of orders queued and running for org &\n",
      "                        user\n",
      "    download            Downloads all files in your order\n",
      "    multipart           Uses multiprocessing to download for all files in your\n",
      "                        order\n",
      "    multiproc           Multiprocess based downloader to download for all\n",
      "                        files in your order\n",
      "\n",
      "optional arguments:\n",
      "  -h, --help            show this help message and exit\n"
     ]
    }
   ],
   "source": [
    "!porder -h"
   ]
  },
  {
   "cell_type": "markdown",
   "metadata": {},
   "source": [
    "To get help for a particular command, run that command with the `-h` flag"
   ]
  },
  {
   "cell_type": "code",
   "execution_count": 2,
   "metadata": {},
   "outputs": [
    {
     "name": "stdout",
     "output_type": "stream",
     "text": [
      "usage: porder idlist [-h] --input INPUT --start START --end END --item ITEM\n",
      "                     [--asset ASSET] --outfile OUTFILE [--cmin CMIN]\n",
      "                     [--cmax CMAX] [--number NUMBER] [--overlap OVERLAP]\n",
      "                     [--filters FILTERS [FILTERS ...]]\n",
      "\n",
      "optional arguments:\n",
      "  -h, --help            show this help message and exit\n",
      "\n",
      "Required named arguments.:\n",
      "  --input INPUT         Input geometry file for now geojson/json/kml\n",
      "  --start START         Start date in format YYYY-MM-DD\n",
      "  --end END             End date in format YYYY-MM-DD\n",
      "  --item ITEM           Item Type PSScene4Band|PSOrthoTile|REOrthoTile etc\n",
      "  --asset ASSET         Asset Type analytic, analytic_sr,visual etc\n",
      "  --outfile OUTFILE     Output csv file\n",
      "\n",
      "Optional named arguments:\n",
      "  --cmin CMIN           Minimum cloud cover 0-1 represents 0 to 100\n",
      "  --cmax CMAX           Maximum cloud cover 0-1 represents 0 to 100\n",
      "  --number NUMBER       Total number of assets, give a large number if you are\n",
      "                        not sure\n",
      "  --overlap OVERLAP     Percentage overlap of image with search area range\n",
      "                        between 0 to 100\n",
      "  --filters FILTERS [FILTERS ...]\n",
      "                        Add an additional string or range filter, Read Me\n"
     ]
    }
   ],
   "source": [
    "!porder idlist -h"
   ]
  },
  {
   "cell_type": "code",
   "execution_count": 3,
   "metadata": {},
   "outputs": [
    {
     "name": "stdout",
     "output_type": "stream",
     "text": [
      "/home/rave/temporal_mixing/notebooks\n"
     ]
    }
   ],
   "source": [
    "!pwd"
   ]
  },
  {
   "cell_type": "markdown",
   "metadata": {},
   "source": [
    "Don't worry about these deprecation warnings"
   ]
  },
  {
   "cell_type": "code",
   "execution_count": 1,
   "metadata": {},
   "outputs": [
    {
     "name": "stdout",
     "output_type": "stream",
     "text": [
      "\n",
      "Running search for a maximum of: 1000000 assets\n",
      "Total number of assets written to /home/rave/temporal_mixing/data/idlist_all_instruments_standard.csv ===> 491\n",
      "Total estimated cost to quota: 100,906 sqkm\n",
      "Total estimated cost to quota if clipped: 29,110 sqkm\n"
     ]
    }
   ],
   "source": [
    "!porder idlist --input \"/home/rave/temporal_mixing/data/san_pedro_smaller_section.geojson\" --start \"2018-06-01\" --end \"2019-06-01\" --item \"PSScene4Band\" --asset \"analytic_sr\" --outfile \"/home/rave/temporal_mixing/data/idlist_all_instruments_standard.csv\" --overlap \"15\" --cmax \".10\" --filters string:quality_category:\"standard\" range:view_angle:-3:3 boolean:ground_control:True"
   ]
  },
  {
   "cell_type": "code",
   "execution_count": 18,
   "metadata": {},
   "outputs": [],
   "source": [
    "import pandas as pd"
   ]
  },
  {
   "cell_type": "code",
   "execution_count": 19,
   "metadata": {},
   "outputs": [
    {
     "data": {
      "text/plain": [
       "2635"
      ]
     },
     "execution_count": 19,
     "metadata": {},
     "output_type": "execute_result"
    }
   ],
   "source": [
    "len(id_df)"
   ]
  },
  {
   "cell_type": "code",
   "execution_count": 20,
   "metadata": {},
   "outputs": [],
   "source": [
    "id_df = pd.read_csv(\"../data/idlist_all_instruments_standard.csv\", header=None)"
   ]
  },
  {
   "cell_type": "code",
   "execution_count": 21,
   "metadata": {},
   "outputs": [],
   "source": [
    "import dateutil.parser\n",
    "id_df['date'] = id_df[0].apply(lambda x: pd.to_datetime(x[0:15], format=\"%Y%m%d_%H%M%S\"))"
   ]
  },
  {
   "cell_type": "code",
   "execution_count": 22,
   "metadata": {},
   "outputs": [],
   "source": [
    "id_df['dove_type'] = id_df[0].apply(lambda x: x[-4:])"
   ]
  },
  {
   "cell_type": "code",
   "execution_count": 23,
   "metadata": {},
   "outputs": [
    {
     "data": {
      "text/plain": [
       "<matplotlib.axes._subplots.AxesSubplot at 0x7f7e4b903d60>"
      ]
     },
     "execution_count": 23,
     "metadata": {},
     "output_type": "execute_result"
    },
    {
     "data": {
      "image/png": "[encoded data removed]",
      "text/plain": [
       "<Figure size 432x288 with 1 Axes>"
      ]
     },
     "metadata": {
      "needs_background": "light"
     },
     "output_type": "display_data"
    }
   ],
   "source": [
    "id_df[\"date\"][(id_df['date'] > '2018-01-01') & (id_df['date'] < '2019-01-01')].groupby(id_df[\"date\"].dt.month).count().plot(kind=\"bar\")"
   ]
  },
  {
   "cell_type": "code",
   "execution_count": 24,
   "metadata": {},
   "outputs": [
    {
     "data": {
      "text/plain": [
       "<matplotlib.axes._subplots.AxesSubplot at 0x7f7e4de91700>"
      ]
     },
     "execution_count": 24,
     "metadata": {},
     "output_type": "execute_result"
    },
    {
     "data": {
      "image/png": "[encoded data removed]",
      "text/plain": [
       "<Figure size 432x288 with 1 Axes>"
      ]
     },
     "metadata": {
      "needs_background": "light"
     },
     "output_type": "display_data"
    }
   ],
   "source": [
    "id_df[\"date\"][(id_df['date'] > '2019-01-01') & (id_df['date'] < '2020-01-01')].groupby(id_df[\"date\"].dt.month).count().plot(kind=\"bar\")"
   ]
  },
  {
   "cell_type": "code",
   "execution_count": 25,
   "metadata": {},
   "outputs": [
    {
     "name": "stdout",
     "output_type": "stream",
     "text": [
      "usage: porder order [-h] --name NAME --idlist IDLIST --item ITEM --bundle\n",
      "                    BUNDLE [--sid SID] [--boundary BOUNDARY]\n",
      "                    [--projection PROJECTION] [--kernel KERNEL]\n",
      "                    [--compression COMPRESSION] [--aws AWS] [--azure AZURE]\n",
      "                    [--gcs GCS] [--op OP [OP ...]]\n",
      "\n",
      "optional arguments:\n",
      "  -h, --help            show this help message and exit\n",
      "\n",
      "Required named arguments.:\n",
      "  --name NAME           Order Name to be Submitted\n",
      "  --idlist IDLIST       CSV idlist with item IDs\n",
      "  --item ITEM           Item Type PSScene4Band|PSOrthoTile|REOrthoTile etc\n",
      "  --bundle BUNDLE       Bundle Type: analytic, analytic_sr,analytic_sr_udm2\n",
      "\n",
      "Optional named arguments:\n",
      "  --sid SID             Subscription ID\n",
      "  --boundary BOUNDARY   Boundary/geometry for clip operation geojson|json|kml\n",
      "  --projection PROJECTION\n",
      "                        Projection for reproject operation of type \"EPSG:4326\"\n",
      "  --kernel KERNEL       Resampling kernel used \"near\", \"bilinear\", \"cubic\",\n",
      "                        \"cubicspline\", \"lanczos\", \"average\" and \"mode\"\n",
      "  --compression COMPRESSION\n",
      "                        Compression type used for tiff_optimize tool,\n",
      "                        \"lzw\"|\"deflate\"\n",
      "  --aws AWS             AWS cloud credentials config yml file\n",
      "  --azure AZURE         Azure cloud credentials config yml file\n",
      "  --gcs GCS             GCS cloud credentials config yml file\n",
      "  --op OP [OP ...]      Add operations, delivery & notification clip|toar|harm\n",
      "                        onize|composite|zip|zipall|compression|projection|kern\n",
      "                        el|aws|azure|gcs|email <Choose indices from>:\n",
      "                        ndvi|gndvi|bndvi|ndwi|tvi|osavi|evi2|msavi2|sr\n"
     ]
    }
   ],
   "source": [
    "!porder order -h"
   ]
  },
  {
   "cell_type": "markdown",
   "metadata": {},
   "source": [
    "Below we submit the **idlist.csv** with the order command. **Make sure to copy the url that is returned** as we will use that in the download step. It should take about 5 minutes for the order to complete. We select the `analytic_sr_udm2` bundle, which comes with surface reflectance, metadata, and two versions of Planet's Usable Data Mask. There are many operations supported besides `email`, making this one of the more powerful commands for controlling the extent, quality, and kind of data you get back from Planet, so [check out the order documentation for more details](https://github.com/samapriya/porder#order)"
   ]
  },
  {
   "cell_type": "code",
   "execution_count": 2,
   "metadata": {},
   "outputs": [
    {
     "name": "stdout",
     "output_type": "stream",
     "text": [
      "Order created at https://api.planet.com/compute/ops/orders/v2/07f2a139-4599-42cc-912f-cc39947db871 and url copied to clipboard\n"
     ]
    }
   ],
   "source": [
    "!porder order --name \"San Pedro Test Intersects with Landsat and Sentinel\" --idlist \"/home/rave/temporal_mixing/data/idlist_all_instruments_standard.csv\" --boundary \"/home/rave/temporal_mixing/data/san_pedro_smaller_section.geojson\" --item \"PSScene4Band\" --bundle \"analytic_sr_udm2\" --op harmonize clip zip email"
   ]
  },
  {
   "cell_type": "markdown",
   "metadata": {},
   "source": [
    "You should receive an email when your order is complete, but you can also check on the status of your order with the following command. Initially it will show that an order is running for 1 user, when it is ready to download, it will show 0 running orders for user. You may see multiple folks running orders, in which case, check your email to see when the order you placed is complete."
   ]
  },
  {
   "cell_type": "code",
   "execution_count": 30,
   "metadata": {},
   "outputs": [
    {
     "name": "stdout",
     "output_type": "stream",
     "text": [
      "Checking on all running orders...\n",
      "\n",
      "Total queued order for organization: 0\n",
      "Total running orders for organization: 0\n",
      "\n",
      "Total queued orders for user: 0\n",
      "Total running orders for user: 0\n"
     ]
    }
   ],
   "source": [
    "!porder stats"
   ]
  },
  {
   "cell_type": "markdown",
   "metadata": {},
   "source": [
    "Once the order is complete, we can download it. This should go quick. You can copy the order id you receive in the email or the order url above and edit the order url below. If you get an `Key error` it is probably because you are running the below command with a different order URL."
   ]
  },
  {
   "cell_type": "code",
   "execution_count": 4,
   "metadata": {},
   "outputs": [
    {
     "name": "stdout",
     "output_type": "stream",
     "text": [
      "Polling ...\n",
      "100% (60 of 60) |########################| Elapsed Time: 0:01:00 Time:  0:01:00\n",
      "100% (60 of 60) |########################| Elapsed Time: 0:01:00 Time:  0:01:00\n",
      "100% (60 of 60) |########################| Elapsed Time: 0:01:00 Time:  0:01:00\n",
      "100% (60 of 60) |########################| Elapsed Time: 0:01:00 Time:  0:01:00\n",
      "100% (60 of 60) |########################| Elapsed Time: 0:01:00 Time:  0:01:00\n",
      "100% (60 of 60) |########################| Elapsed Time: 0:01:00 Time:  0:01:00\n",
      "100% (60 of 60) |########################| Elapsed Time: 0:01:00 Time:  0:01:00\n",
      "100% (60 of 60) |########################| Elapsed Time: 0:01:00 Time:  0:01:00\n",
      "Total of 376 download objects with download size of 17.79 GB\n"
     ]
    }
   ],
   "source": [
    "!porder ordersize --url \"https://api.planet.com/compute/ops/orders/v2/07f2a139-4599-42cc-912f-cc39947db871\""
   ]
  },
  {
   "cell_type": "code",
   "execution_count": 35,
   "metadata": {},
   "outputs": [
    {
     "name": "stdout",
     "output_type": "stream",
     "text": [
      "usage: porder multiproc [-h] [--url URL] [--local LOCAL] [--ext EXT]\n",
      "\n",
      "optional arguments:\n",
      "  -h, --help     show this help message and exit\n",
      "  --url URL      order url you got for your order\n",
      "  --local LOCAL  Output folder where ordered files will be exported\n",
      "\n",
      "Optional named arguments:\n",
      "  --ext EXT      File Extension to download\n"
     ]
    }
   ],
   "source": [
    "!porder multiproc -h"
   ]
  },
  {
   "cell_type": "code",
   "execution_count": null,
   "metadata": {},
   "outputs": [
    {
     "name": "stdout",
     "output_type": "stream",
     "text": [
      "Polling with exponential backoff..\n",
      "Order completed with status: success\n",
      "Processing a url list with 752 items\n",
      "\n",
      "\n",
      "File                                                                                                 Completed at        \n",
      "PSScene4Band_20190314_170117_1043_analytic_sr_udm2_manifest.json                                     405.54s             \n",
      "PSScene4Band_20190324_170050_1052_analytic_sr_udm2_manifest.json                                     405.55s             \n",
      "PSScene4Band_20190103_173615_1035_analytic_sr_udm2_manifest.json                                     405.55s             \n",
      "PSScene4Band_20190422_173957_103d_analytic_sr_udm2_manifest.json                                     405.58s             \n",
      "PSScene4Band_20180706_172952_1014_analytic_sr_udm2_manifest.json                                     405.59s             \n",
      "PSScene4Band_20181209_173125_0e14_analytic_sr_udm2_manifest.json                                     405.66s             \n",
      "PSScene4Band_20181123_173411_0f35_analytic_sr_udm2_manifest.json                                     405.67s             \n",
      "PSScene4Band_20190409_173700_100c_analytic_sr_udm2_manifest.json                                     405.70s             \n",
      "PSScene4Band_20190411_173816_1006_analytic_sr_udm2_manifest.json                                     405.80s             \n",
      "PSScene4Band_20190318_173924_0f17_analytic_sr_udm2_manifest.json                                     405.85s             \n",
      "PSScene4Band_20190314_170117_1043_analytic_sr_udm2.zip                                               413.00s             \n",
      "PSScene4Band_20181224_171405_0f46_analytic_sr_udm2_manifest.json                                     413.23s             \n",
      "PSScene4Band_20181025_172208_0f46_analytic_sr_udm2_manifest.json                                     413.39s             \n",
      "PSScene4Band_20180914_172831_1_1020_analytic_sr_udm2_manifest.json                                   413.66s             \n",
      "PSScene4Band_20181109_173532_0f28_analytic_sr_udm2_manifest.json                                     413.85s             \n",
      "PSScene4Band_20180929_173116_0e0f_analytic_sr_udm2_manifest.json                                     414.03s             \n",
      "PSScene4Band_20190409_173700_100c_analytic_sr_udm2.zip                                               414.20s             \n",
      "PSScene4Band_20190318_173924_0f17_analytic_sr_udm2.zip                                               414.23s             \n",
      "PSScene4Band_20190324_170050_1052_analytic_sr_udm2.zip                                               416.49s             \n",
      "PSScene4Band_20181123_173411_0f35_analytic_sr_udm2.zip                                               418.35s             \n",
      "PSScene4Band_20190103_173615_1035_analytic_sr_udm2.zip                                               419.76s             \n",
      "PSScene4Band_20181112_173605_1044_analytic_sr_udm2_manifest.json                                     419.93s             \n",
      "PSScene4Band_20190411_173816_1006_analytic_sr_udm2.zip                                               421.52s             \n",
      "PSScene4Band_20181017_173400_103e_analytic_sr_udm2_manifest.json                                     421.66s             \n",
      "PSScene4Band_20190524_174004_1010_analytic_sr_udm2_manifest.json                                     421.83s             \n",
      "PSScene4Band_20181209_173125_0e14_analytic_sr_udm2.zip                                               422.67s             \n",
      "PSScene4Band_20181112_173605_1044_analytic_sr_udm2.zip                                               423.73s             \n",
      "PSScene4Band_20190126_173550_1038_analytic_sr_udm2_manifest.json                                     423.90s             \n",
      "PSScene4Band_20180706_172952_1014_analytic_sr_udm2.zip                                               424.17s             \n",
      "PSScene4Band_20190509_165351_1043_analytic_sr_udm2_manifest.json                                     424.41s             \n",
      "PSScene4Band_20181025_172208_0f46_analytic_sr_udm2.zip                                               424.46s             \n",
      "PSScene4Band_20180701_173934_1049_analytic_sr_udm2_manifest.json                                     424.58s             \n",
      "PSScene4Band_20190422_173957_103d_analytic_sr_udm2.zip                                               430.51s             \n",
      "PSScene4Band_20190524_165159_0f2a_analytic_sr_udm2_manifest.json                                     430.73s             \n",
      "PSScene4Band_20181201_173129_0e0f_analytic_sr_udm2_manifest.json                                     430.91s             \n",
      "PSScene4Band_20180914_172831_1_1020_analytic_sr_udm2.zip                                             435.38s             \n",
      "PSScene4Band_20181224_171405_0f46_analytic_sr_udm2.zip                                               435.67s             \n",
      "PSScene4Band_20190524_174004_1010_analytic_sr_udm2.zip                                               435.76s             \n",
      "PSScene4Band_20180831_173020_104d_analytic_sr_udm2_manifest.json                                     435.84s             \n",
      "PSScene4Band_20180706_173100_1035_analytic_sr_udm2_manifest.json                                     435.93s             \n",
      "PSScene4Band_20190509_165351_1043_analytic_sr_udm2.zip                                               436.65s             \n",
      "PSScene4Band_20180707_173747_0f2a_analytic_sr_udm2_manifest.json                                     436.78s             \n",
      "PSScene4Band_20180929_173116_0e0f_analytic_sr_udm2.zip                                               437.12s             \n",
      "PSScene4Band_20181109_171932_0f2b_analytic_sr_udm2_manifest.json                                     437.27s             \n",
      "PSScene4Band_20190401_165822_1050_analytic_sr_udm2_manifest.json                                     437.42s             \n",
      "PSScene4Band_20180701_173934_1049_analytic_sr_udm2.zip                                               437.45s             \n",
      "PSScene4Band_20181017_173400_103e_analytic_sr_udm2.zip                                               438.03s             \n",
      "PSScene4Band_20181116_171817_0f4d_analytic_sr_udm2_manifest.json                                     438.49s             \n",
      "PSScene4Band_20190126_173550_1038_analytic_sr_udm2.zip                                               438.51s             \n",
      "PSScene4Band_20181109_173532_0f28_analytic_sr_udm2.zip                                               438.96s             \n",
      "PSScene4Band_20180912_172744_1053_analytic_sr_udm2_manifest.json                                     439.11s             \n",
      "PSScene4Band_20180913_172935_0e20_analytic_sr_udm2.zip                                               447.16s             \n",
      "PSScene4Band_20190524_165159_0f2a_analytic_sr_udm2.zip                                               447.57s             \n",
      "PSScene4Band_20181217_172948_0e26_analytic_sr_udm2_manifest.json                                     447.78s             \n",
      "PSScene4Band_20180831_173020_104d_analytic_sr_udm2.zip                                               448.32s             \n",
      "PSScene4Band_20190415_165652_101c_analytic_sr_udm2_manifest.json                                     448.50s             \n",
      "PSScene4Band_20181116_171817_0f4d_analytic_sr_udm2.zip                                               449.48s             \n",
      "PSScene4Band_20181109_171932_0f2b_analytic_sr_udm2.zip                                               451.05s             \n",
      "PSScene4Band_20190408_165628_0f3d_analytic_sr_udm2_manifest.json                                     451.64s             \n",
      "PSScene4Band_20180707_173747_0f2a_analytic_sr_udm2.zip                                               451.66s             \n",
      "PSScene4Band_20180912_173235_1008_analytic_sr_udm2_manifest.json                                     451.81s             \n",
      "PSScene4Band_20181003_173354_0f22_analytic_sr_udm2_manifest.json                                     451.99s             \n",
      "PSScene4Band_20180817_172828_0e26_analytic_sr_udm2_manifest.json                                     452.19s             \n",
      "PSScene4Band_20181201_173129_0e0f_analytic_sr_udm2.zip                                               452.50s             \n",
      "PSScene4Band_20190225_170423_0f53_analytic_sr_udm2_manifest.json                                     452.68s             \n",
      "PSScene4Band_20180706_173100_1035_analytic_sr_udm2.zip                                               453.22s             \n",
      "PSScene4Band_20181120_173523_101e_analytic_sr_udm2_manifest.json                                     453.38s             \n",
      "PSScene4Band_20190401_165822_1050_analytic_sr_udm2.zip                                               456.08s             \n",
      "PSScene4Band_20180912_173235_1008_analytic_sr_udm2.zip                                               466.17s             \n",
      "PSScene4Band_20190402_173802_101e_analytic_sr_udm2_manifest.json                                     466.29s             \n",
      "PSScene4Band_20181112_173451_1034_analytic_sr_udm2_manifest.json                                     466.43s             \n",
      "PSScene4Band_20190402_173802_101e_analytic_sr_udm2.zip                                               466.93s             \n",
      "PSScene4Band_20180817_172828_0e26_analytic_sr_udm2.zip                                               469.30s             \n",
      "PSScene4Band_20181005_173428_1042_analytic_sr_udm2_manifest.json                                     469.48s             \n",
      "PSScene4Band_20180915_173314_103c_analytic_sr_udm2_manifest.json                                     469.70s             \n",
      "PSScene4Band_20181120_173523_101e_analytic_sr_udm2.zip                                               472.81s             \n",
      "PSScene4Band_20180907_173339_0f51_analytic_sr_udm2_manifest.json                                     472.99s             \n",
      "PSScene4Band_20180912_172744_1053_analytic_sr_udm2.zip                                               473.96s             \n",
      "PSScene4Band_20190119_170934_1_101c_analytic_sr_udm2_manifest.json                                   474.12s             \n",
      "PSScene4Band_20190408_165628_0f3d_analytic_sr_udm2.zip                                               475.06s             \n",
      "PSScene4Band_20181003_173354_0f22_analytic_sr_udm2.zip                                               477.20s             \n",
      "PSScene4Band_20190421_173736_1032_analytic_sr_udm2_manifest.json                                     477.33s             \n",
      "PSScene4Band_20190225_170423_0f53_analytic_sr_udm2.zip                                               477.60s             \n",
      "PSScene4Band_20190329_173818_1027_analytic_sr_udm2_manifest.json                                     477.75s             \n",
      "PSScene4Band_20180907_173339_0f51_analytic_sr_udm2.zip                                               482.00s             \n",
      "PSScene4Band_20181217_172948_0e26_analytic_sr_udm2.zip                                               482.32s             \n",
      "PSScene4Band_20181107_173019_0e19_analytic_sr_udm2_manifest.json                                     483.18s             \n",
      "PSScene4Band_20181209_173505_1035_analytic_sr_udm2_manifest.json                                     483.32s             \n",
      "PSScene4Band_20180905_172855_0e19_analytic_sr_udm2.zip                                               483.94s             \n",
      "PSScene4Band_20181112_173604_1044_analytic_sr_udm2_manifest.json                                     484.22s             \n",
      "PSScene4Band_20190119_170934_1_101c_analytic_sr_udm2.zip                                             487.28s             \n",
      "PSScene4Band_20190420_165536_0f4b_analytic_sr_udm2_manifest.json                                     487.40s             \n",
      "PSScene4Band_20180930_172559_0f40_analytic_sr_udm2_manifest.json                                     487.57s             \n",
      "PSScene4Band_20190415_165652_101c_analytic_sr_udm2.zip                                               491.59s             \n",
      "PSScene4Band_20180912_173326_1032_analytic_sr_udm2_manifest.json                                     491.85s             \n",
      "PSScene4Band_20181005_173428_1042_analytic_sr_udm2.zip                                               492.01s             \n",
      "PSScene4Band_20181209_173505_1035_analytic_sr_udm2.zip                                               493.74s             \n",
      "PSScene4Band_20181104_171949_0f21_analytic_sr_udm2.zip                                               493.86s             \n",
      "PSScene4Band_20190422_173805_103e_analytic_sr_udm2_manifest.json                                     494.01s             \n",
      "PSScene4Band_20181021_173400_1025_analytic_sr_udm2_manifest.json                                     494.17s             \n",
      "PSScene4Band_20180911_172838_0f4d_analytic_sr_udm2_manifest.json                                     494.38s             \n",
      "PSScene4Band_20180905_172855_0e19_analytic_sr_udm2_manifest.json                                     494.57s             \n",
      "PSScene4Band_20190505_165534_0f2e_analytic_sr_udm2_manifest.json                                     494.85s             \n",
      "PSScene4Band_20190329_173818_1027_analytic_sr_udm2.zip                                               494.94s             \n",
      "PSScene4Band_20181104_171949_0f21_analytic_sr_udm2_manifest.json                                     495.21s             \n",
      "PSScene4Band_20190207_173801_100a_analytic_sr_udm2_manifest.json                                     495.42s             \n",
      "PSScene4Band_20181112_173451_1034_analytic_sr_udm2.zip                                               497.91s             \n",
      "PSScene4Band_20180921_172647_0f21_analytic_sr_udm2_manifest.json                                     498.08s             \n",
      "PSScene4Band_20181021_173400_1025_analytic_sr_udm2.zip                                               498.23s             \n",
      "PSScene4Band_20180913_172935_0e20_analytic_sr_udm2_manifest.json                                     498.44s             \n",
      "PSScene4Band_20181107_173019_0e19_analytic_sr_udm2.zip                                               500.28s             \n",
      "PSScene4Band_20190421_173736_1032_analytic_sr_udm2.zip                                               503.60s             \n",
      "PSScene4Band_20180912_173326_1032_analytic_sr_udm2.zip                                               506.37s             \n",
      "PSScene4Band_20180706_172951_1014_analytic_sr_udm2_manifest.json                                     506.55s             \n",
      "PSScene4Band_20190420_165536_0f4b_analytic_sr_udm2.zip                                               507.36s             \n",
      "PSScene4Band_20181026_173505_1042_analytic_sr_udm2_manifest.json                                     507.51s             \n",
      "PSScene4Band_20180915_173314_103c_analytic_sr_udm2.zip                                               507.71s             \n",
      "PSScene4Band_20180701_173143_0f28_analytic_sr_udm2_manifest.json                                     507.89s             \n",
      "PSScene4Band_20180930_172559_0f40_analytic_sr_udm2.zip                                               510.17s             \n",
      "PSScene4Band_20181005_173427_1042_analytic_sr_udm2_manifest.json                                     510.38s             \n",
      "PSScene4Band_20180921_172647_0f21_analytic_sr_udm2.zip                                               511.92s             \n",
      "PSScene4Band_20190522_173846_1040_analytic_sr_udm2_manifest.json                                     512.14s             \n",
      "PSScene4Band_20181026_173505_1042_analytic_sr_udm2.zip                                               514.52s             \n",
      "PSScene4Band_20190108_171139_0f4a_analytic_sr_udm2_manifest.json                                     514.69s             \n",
      "PSScene4Band_20190207_173801_100a_analytic_sr_udm2.zip                                               514.88s             \n",
      "PSScene4Band_20180828_173029_0f47_analytic_sr_udm2_manifest.json                                     515.07s             \n",
      "PSScene4Band_20180702_173118_0f3f_analytic_sr_udm2_manifest.json                                     515.25s             \n",
      "PSScene4Band_20181112_173604_1044_analytic_sr_udm2.zip                                               515.50s             \n",
      "PSScene4Band_20180911_173218_103b_analytic_sr_udm2_manifest.json                                     515.68s             \n",
      "PSScene4Band_20181120_171735_0f49_analytic_sr_udm2_manifest.json                                     515.91s             \n",
      "PSScene4Band_20180911_172838_0f4d_analytic_sr_udm2.zip                                               516.29s             \n",
      "PSScene4Band_20181111_171947_104b_analytic_sr_udm2_manifest.json                                     516.43s             \n",
      "PSScene4Band_20181213_173555_0f15_analytic_sr_udm2_manifest.json                                     516.58s             \n",
      "PSScene4Band_20180706_172951_1014_analytic_sr_udm2.zip                                               518.48s             \n",
      "PSScene4Band_20180701_173143_0f28_analytic_sr_udm2.zip                                               521.02s             \n",
      "PSScene4Band_20190529_164958_1048_analytic_sr_udm2_manifest.json                                     521.18s             \n",
      "PSScene4Band_20190505_165534_0f2e_analytic_sr_udm2.zip                                               521.32s             \n",
      "PSScene4Band_20190104_173632_100e_analytic_sr_udm2_manifest.json                                     521.36s             \n",
      "PSScene4Band_20181005_173427_1042_analytic_sr_udm2.zip                                               522.19s             \n",
      "PSScene4Band_20181213_173555_0f15_analytic_sr_udm2.zip                                               537.96s             \n",
      "PSScene4Band_20190104_173632_100e_analytic_sr_udm2.zip                                               538.08s             \n",
      "PSScene4Band_20181123_173413_0f35_analytic_sr_udm2_manifest.json                                     538.21s             \n",
      "PSScene4Band_20181103_173443_1015_analytic_sr_udm2_manifest.json                                     538.38s             \n",
      "PSScene4Band_20181111_171947_104b_analytic_sr_udm2.zip                                               538.84s             \n",
      "PSScene4Band_20190103_171201_0f1a_analytic_sr_udm2_manifest.json                                     539.08s             \n",
      "PSScene4Band_20190108_171139_0f4a_analytic_sr_udm2.zip                                               539.19s             \n",
      "PSScene4Band_20190503_173940_1035_analytic_sr_udm2_manifest.json                                     539.24s             \n",
      "PSScene4Band_20180820_173137_104e_analytic_sr_udm2_manifest.json                                     539.42s             \n",
      "PSScene4Band_20190319_173654_1032_analytic_sr_udm2_manifest.json                                     539.64s             \n",
      "PSScene4Band_20180911_173218_103b_analytic_sr_udm2.zip                                               539.66s             \n",
      "PSScene4Band_20181004_173258_102c_analytic_sr_udm2_manifest.json                                     539.80s             \n",
      "PSScene4Band_20180828_173029_0f47_analytic_sr_udm2.zip                                               541.90s             \n",
      "PSScene4Band_20190422_173805_103e_analytic_sr_udm2.zip                                               544.40s             \n",
      "PSScene4Band_20190329_173817_1027_analytic_sr_udm2_manifest.json                                     544.56s             \n",
      "PSScene4Band_20190522_173846_1040_analytic_sr_udm2.zip                                               550.22s             \n",
      "PSScene4Band_20190103_171201_0f1a_analytic_sr_udm2.zip                                               552.87s             \n",
      "PSScene4Band_20190530_173849_1044_analytic_sr_udm2_manifest.json                                     553.12s             \n",
      "PSScene4Band_20181103_173443_1015_analytic_sr_udm2.zip                                               554.21s             \n",
      "PSScene4Band_20190217_170333_0f2a_analytic_sr_udm2_manifest.json                                     554.38s             \n",
      "PSScene4Band_20181119_173430_1029_analytic_sr_udm2_manifest.json                                     554.54s             \n",
      "PSScene4Band_20190319_173654_1032_analytic_sr_udm2.zip                                               557.56s             \n",
      "PSScene4Band_20181120_171735_0f49_analytic_sr_udm2.zip                                               557.74s             \n",
      "PSScene4Band_20190530_173850_1044_analytic_sr_udm2_manifest.json                                     557.98s             \n",
      "PSScene4Band_20190503_173940_1035_analytic_sr_udm2.zip                                               557.99s             \n",
      "PSScene4Band_20181123_173413_0f35_analytic_sr_udm2.zip                                               558.48s             \n",
      "PSScene4Band_20190529_164958_1048_analytic_sr_udm2.zip                                               558.79s             \n",
      "PSScene4Band_20181105_173047_0e2f_analytic_sr_udm2_manifest.json                                     558.94s             \n",
      "PSScene4Band_20190503_173806_0f12_analytic_sr_udm2_manifest.json                                     559.13s             \n",
      "PSScene4Band_20190329_173817_1027_analytic_sr_udm2.zip                                               569.24s             \n",
      "PSScene4Band_20190302_170232_1049_analytic_sr_udm2_manifest.json                                     569.46s             \n",
      "PSScene4Band_20180820_173137_104e_analytic_sr_udm2.zip                                               572.57s             \n",
      "PSScene4Band_20190503_173806_0f12_analytic_sr_udm2.zip                                               573.91s             \n",
      "PSScene4Band_20180927_173351_1040_analytic_sr_udm2.zip                                               574.96s             \n",
      "PSScene4Band_20190320_173143_0e20_analytic_sr_udm2_manifest.json                                     575.15s             \n",
      "PSScene4Band_20190504_165337_0f36_analytic_sr_udm2_manifest.json                                     575.28s             \n",
      "PSScene4Band_20190530_173850_1044_analytic_sr_udm2.zip                                               578.68s             \n",
      "PSScene4Band_20180701_173933_1049_analytic_sr_udm2.zip                                               579.27s             \n",
      "PSScene4Band_20180702_172943_1032_analytic_sr_udm2_manifest.json                                     579.64s             \n",
      "PSScene4Band_20190302_170232_1049_analytic_sr_udm2.zip                                               581.96s             \n",
      "PSScene4Band_20190103_173616_1035_analytic_sr_udm2_manifest.json                                     582.32s             \n",
      "PSScene4Band_20190522_173845_1040_analytic_sr_udm2_manifest.json                                     582.49s             \n",
      "PSScene4Band_20181119_173430_1029_analytic_sr_udm2.zip                                               582.68s             \n",
      "PSScene4Band_20180702_173118_0f3f_analytic_sr_udm2.zip                                               584.50s             \n",
      "PSScene4Band_20181204_173442_103b_analytic_sr_udm2_manifest.json                                     584.64s             \n",
      "PSScene4Band_20190426_174828_66_1058_analytic_sr_udm2_manifest.json                                  584.84s             \n",
      "PSScene4Band_20190103_173616_1035_analytic_sr_udm2.zip                                               586.49s             \n",
      "PSScene4Band_20180930_173256_1025_analytic_sr_udm2_manifest.json                                     586.66s             \n",
      "PSScene4Band_20181224_173604_1040_analytic_sr_udm2_manifest.json                                     586.84s             \n",
      "PSScene4Band_20190530_173849_1044_analytic_sr_udm2.zip                                               588.40s             \n",
      "PSScene4Band_20190504_165337_0f36_analytic_sr_udm2.zip                                               593.41s             \n",
      "PSScene4Band_20190522_173845_1040_analytic_sr_udm2.zip                                               600.20s             \n",
      "PSScene4Band_20190502_165314_1_0f46_analytic_sr_udm2_manifest.json                                   600.40s             \n",
      "PSScene4Band_20190320_173143_0e20_analytic_sr_udm2.zip                                               606.19s             \n",
      "PSScene4Band_20190228_170234_1053_analytic_sr_udm2_manifest.json                                     606.44s             \n",
      "PSScene4Band_20181204_173442_103b_analytic_sr_udm2.zip                                               608.11s             \n",
      "PSScene4Band_20181224_173604_1040_analytic_sr_udm2.zip                                               609.31s             \n",
      "PSScene4Band_20180701_173933_1049_analytic_sr_udm2_manifest.json                                     609.52s             \n",
      "PSScene4Band_20181004_173258_102c_analytic_sr_udm2.zip                                               609.72s             \n",
      "PSScene4Band_20181113_173521_0f43_analytic_sr_udm2_manifest.json                                     609.74s             \n",
      "PSScene4Band_20181119_173431_1029_analytic_sr_udm2_manifest.json                                     609.92s             \n",
      "PSScene4Band_20190501_173824_1027_analytic_sr_udm2_manifest.json                                     610.07s             \n",
      "PSScene4Band_20190502_165314_1_0f46_analytic_sr_udm2.zip                                             611.28s             \n",
      "PSScene4Band_20180927_173351_1040_analytic_sr_udm2_manifest.json                                     611.55s             \n",
      "PSScene4Band_20190523_173932_0f17_analytic_sr_udm2_manifest.json                                     611.71s             \n",
      "PSScene4Band_20190320_173142_0e20_analytic_sr_udm2_manifest.json                                     611.88s             \n",
      "PSScene4Band_20190426_174828_66_1058_analytic_sr_udm2.zip                                            614.74s             \n",
      "PSScene4Band_20180910_173322_1044_analytic_sr_udm2_manifest.json                                     614.96s             \n",
      "PSScene4Band_20181119_173431_1029_analytic_sr_udm2.zip                                               616.99s             \n",
      "PSScene4Band_20190330_165826_101c_analytic_sr_udm2_manifest.json                                     617.26s             \n",
      "PSScene4Band_20180915_173313_103c_analytic_sr_udm2_manifest.json                                     617.59s             \n",
      "PSScene4Band_20190426_174830_70_1058_analytic_sr_udm2_manifest.json                                  617.76s             \n",
      "PSScene4Band_20190228_170234_1053_analytic_sr_udm2.zip                                               619.44s             \n",
      "PSScene4Band_20180930_173256_1025_analytic_sr_udm2.zip                                               625.15s             \n",
      "PSScene4Band_20190501_173824_1027_analytic_sr_udm2.zip                                               625.52s             \n",
      "PSScene4Band_20181201_171736_100d_analytic_sr_udm2.zip                                               629.11s             \n",
      "PSScene4Band_20190523_173932_0f17_analytic_sr_udm2.zip                                               630.33s             \n",
      "PSScene4Band_20180706_173101_1035_analytic_sr_udm2_manifest.json                                     630.47s             \n",
      "PSScene4Band_20190108_173640_1003_analytic_sr_udm2_manifest.json                                     630.62s             \n",
      "PSScene4Band_20180702_172943_1032_analytic_sr_udm2.zip                                               630.64s             \n",
      "PSScene4Band_20181201_171736_100d_analytic_sr_udm2_manifest.json                                     630.82s             \n",
      "PSScene4Band_20180910_173322_1044_analytic_sr_udm2.zip                                               631.46s             \n",
      "PSScene4Band_20190531_173829_101b_analytic_sr_udm2_manifest.json                                     631.58s             \n",
      "PSScene4Band_20190320_173142_0e20_analytic_sr_udm2.zip                                               635.36s             \n",
      "PSScene4Band_20180801_173116_1009_analytic_sr_udm2_manifest.json                                     635.62s             \n",
      "PSScene4Band_20180706_173101_1035_analytic_sr_udm2.zip                                               643.15s             \n",
      "PSScene4Band_20181031_173510_0f25_analytic_sr_udm2_manifest.json                                     643.31s             \n",
      "PSScene4Band_20180701_173026_0f17_analytic_sr_udm2_manifest.json                                     643.47s             \n",
      "PSScene4Band_20181031_173510_0f25_analytic_sr_udm2.zip                                               643.70s             \n",
      "PSScene4Band_20181113_173521_0f43_analytic_sr_udm2.zip                                               643.73s             \n",
      "PSScene4Band_20190525_165030_0f21_analytic_sr_udm2_manifest.json                                     643.95s             \n",
      "PSScene4Band_20190426_174830_70_1058_analytic_sr_udm2.zip                                            644.14s             \n",
      "PSScene4Band_20181125_173302_0e3a_analytic_sr_udm2_manifest.json                                     644.15s             \n",
      "PSScene4Band_20180917_172817_104b_analytic_sr_udm2_manifest.json                                     644.27s             \n",
      "PSScene4Band_20181105_173047_0e2f_analytic_sr_udm2.zip                                               644.97s             \n",
      "PSScene4Band_20190324_170051_1052_analytic_sr_udm2_manifest.json                                     645.12s             \n",
      "PSScene4Band_20190108_173640_1003_analytic_sr_udm2.zip                                               647.61s             \n",
      "PSScene4Band_20190330_165826_101c_analytic_sr_udm2.zip                                               658.33s             \n",
      "PSScene4Band_20190422_173806_103e_analytic_sr_udm2_manifest.json                                     658.47s             \n",
      "PSScene4Band_20180915_173313_103c_analytic_sr_udm2.zip                                               661.76s             \n",
      "PSScene4Band_20181223_171225_1043_analytic_sr_udm2_manifest.json                                     661.97s             \n"
     ]
    }
   ],
   "source": [
    "!porder multiproc --url \"https://api.planet.com/compute/ops/orders/v2/07f2a139-4599-42cc-912f-cc39947db871\" --local \"/home/rave/temporal_mixing/data/downloads\""
   ]
  },
  {
   "cell_type": "code",
   "execution_count": null,
   "metadata": {},
   "outputs": [],
   "source": [
    "import xarray as xa\n",
    "import rioxarray\n",
    "%matplotlib inline\n",
    "xa.set_options(display_style = \"text\")"
   ]
  },
  {
   "cell_type": "code",
   "execution_count": null,
   "metadata": {},
   "outputs": [],
   "source": [
    "san_pedro_sr = xa.open_rasterio(\"data/20190606_164931_104b_3B_AnalyticMS_SR.tif\")\n",
    "san_pedro_sr"
   ]
  },
  {
   "cell_type": "code",
   "execution_count": null,
   "metadata": {},
   "outputs": [],
   "source": [
    "san_pedro_sr_bgr = san_pedro_sr.sel(band=slice(1,3)) # we make a new variable, keeping the blue, green, and red bands"
   ]
  },
  {
   "cell_type": "code",
   "execution_count": null,
   "metadata": {},
   "outputs": [],
   "source": [
    "san_pedro_sr_rgb = san_pedro_sr_bgr[::-1, ...] # reversing the order of the band axis from bgr to rgb"
   ]
  },
  {
   "cell_type": "markdown",
   "metadata": {},
   "source": [
    "The in python we can use xarray's `imshow` function to plot single band or rgb data. `robust=True` clips the visualization to the minimum and maximum values in the dataset."
   ]
  },
  {
   "cell_type": "code",
   "execution_count": null,
   "metadata": {},
   "outputs": [],
   "source": [
    "%matplotlib inline\n",
    "subset = san_pedro_sr_rgb[:,2000:3000,2000:3000]\n",
    "subset.plot.imshow(robust=True)"
   ]
  },
  {
   "cell_type": "code",
   "execution_count": null,
   "metadata": {},
   "outputs": [],
   "source": [
    "import pandas as pd\n",
    "pd.read_json(\"data/20190606_164931_104b_metadata.json\").drop(\"geometry\", axis=1)"
   ]
  },
  {
   "cell_type": "code",
   "execution_count": null,
   "metadata": {},
   "outputs": [],
   "source": []
  }
 ],
 "metadata": {
  "kernelspec": {
   "display_name": "Python [conda env:porder-test]",
   "language": "python",
   "name": "conda-env-porder-test-py"
  },
  "language_info": {
   "codemirror_mode": {
    "name": "ipython",
    "version": 3
   },
   "file_extension": ".py",
   "mimetype": "text/x-python",
   "name": "python",
   "nbconvert_exporter": "python",
   "pygments_lexer": "ipython3",
   "version": "3.8.0"
  }
 },
 "nbformat": 4,
 "nbformat_minor": 4
}
