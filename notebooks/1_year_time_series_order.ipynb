{
 "cells": [
  {
   "cell_type": "code",
   "execution_count": 1,
   "metadata": {},
   "outputs": [
    {
     "name": "stdout",
     "output_type": "stream",
     "text": [
      "usage: porder [-h]\n",
      "              {version,readme,quota,shp2geojson,base64,simplify,idlist,difflist,idsplit,idcheck,bundles,order,ordersize,ostate,stats,download,multipart,multiproc}\n",
      "              ...\n",
      "\n",
      "Ordersv2 Simple Client\n",
      "\n",
      "positional arguments:\n",
      "  {version,readme,quota,shp2geojson,base64,simplify,idlist,difflist,idsplit,idcheck,bundles,order,ordersize,ostate,stats,download,multipart,multiproc}\n",
      "    version             Prints porder version and exists\n",
      "    readme              Go the web based porder readme page\n",
      "    quota               Prints your Planet Quota Details\n",
      "    shp2geojson         Convert all shapefiles in folder to GeoJSON\n",
      "    base64              Base 64 encode a JSON file\n",
      "    simplify            Simplifies geometry to number of vertices specified\n",
      "                        using Visvalingam-Wyatt line simplification algorithm\n",
      "    idlist              Get idlist using geometry & filters\n",
      "    difflist            Checks the difference between local files and\n",
      "                        available Planet assets\n",
      "    idsplit             Splits ID list incase you want to run them in small\n",
      "                        batches\n",
      "    idcheck             Check idlist for estimating clipped area\n",
      "    bundles             Check bundles of assets for given tiem type\n",
      "    order               Place an order & get order url currently supports\n",
      "                        \"toar\",\"clip\",\"composite\",\"reproject\",\"compression\"\n",
      "    ordersize           Estimate total download size\n",
      "    ostate              Get list of orders by state and date range\n",
      "    stats               Prints number of orders queued and running for org &\n",
      "                        user\n",
      "    download            Downloads all files in your order\n",
      "    multipart           Uses multiprocessing to download for all files in your\n",
      "                        order\n",
      "    multiproc           Multiprocess based downloader to download for all\n",
      "                        files in your order\n",
      "\n",
      "optional arguments:\n",
      "  -h, --help            show this help message and exit\n"
     ]
    }
   ],
   "source": [
    "!porder -h"
   ]
  },
  {
   "cell_type": "markdown",
   "metadata": {},
   "source": [
    "To get help for a particular command, run that command with the `-h` flag"
   ]
  },
  {
   "cell_type": "code",
   "execution_count": 2,
   "metadata": {},
   "outputs": [
    {
     "name": "stdout",
     "output_type": "stream",
     "text": [
      "usage: porder idlist [-h] --input INPUT --start START --end END --item ITEM\n",
      "                     [--asset ASSET] --outfile OUTFILE [--cmin CMIN]\n",
      "                     [--cmax CMAX] [--number NUMBER] [--overlap OVERLAP]\n",
      "                     [--filters FILTERS [FILTERS ...]]\n",
      "\n",
      "optional arguments:\n",
      "  -h, --help            show this help message and exit\n",
      "\n",
      "Required named arguments.:\n",
      "  --input INPUT         Input geometry file for now geojson/json/kml\n",
      "  --start START         Start date in format YYYY-MM-DD\n",
      "  --end END             End date in format YYYY-MM-DD\n",
      "  --item ITEM           Item Type PSScene4Band|PSOrthoTile|REOrthoTile etc\n",
      "  --asset ASSET         Asset Type analytic, analytic_sr,visual etc\n",
      "  --outfile OUTFILE     Output csv file\n",
      "\n",
      "Optional named arguments:\n",
      "  --cmin CMIN           Minimum cloud cover 0-1 represents 0 to 100\n",
      "  --cmax CMAX           Maximum cloud cover 0-1 represents 0 to 100\n",
      "  --number NUMBER       Total number of assets, give a large number if you are\n",
      "                        not sure\n",
      "  --overlap OVERLAP     Percentage overlap of image with search area range\n",
      "                        between 0 to 100\n",
      "  --filters FILTERS [FILTERS ...]\n",
      "                        Add an additional string or range filter, Read Me\n"
     ]
    }
   ],
   "source": [
    "!porder idlist -h"
   ]
  },
  {
   "cell_type": "code",
   "execution_count": 3,
   "metadata": {},
   "outputs": [
    {
     "name": "stdout",
     "output_type": "stream",
     "text": [
      "/home/rave/temporal_mixing/notebooks\n"
     ]
    }
   ],
   "source": [
    "!pwd"
   ]
  },
  {
   "cell_type": "markdown",
   "metadata": {},
   "source": [
    "Don't worry about these deprecation warnings"
   ]
  },
  {
   "cell_type": "code",
   "execution_count": 17,
   "metadata": {},
   "outputs": [
    {
     "name": "stdout",
     "output_type": "stream",
     "text": [
      "\n",
      "Running search for a maximum of: 1000000 assets\n",
      "Total number of assets written to /home/rave/temporal_mixing/data/idlist_all_instruments_standard.csv ===> 491\n",
      "Total estimated cost to quota: 100,906 sqkm\n",
      "Total estimated cost to quota if clipped: 29,110 sqkm\n"
     ]
    }
   ],
   "source": [
    "!porder idlist --input \"/home/rave/temporal_mixing/data/san_pedro_smaller_section.geojson\" --start \"2018-06-01\" --end \"2019-06-01\" --item \"PSScene4Band\" --asset \"analytic_sr\" --outfile \"/home/rave/temporal_mixing/data/idlist_all_instruments_standard.csv\" --overlap \"15\" --cmax \".10\" --filters string:quality_category:\"standard\" range:view_angle:-3:3 boolean:ground_control:True"
   ]
  },
  {
   "cell_type": "code",
   "execution_count": 18,
   "metadata": {},
   "outputs": [],
   "source": [
    "import pandas as pd"
   ]
  },
  {
   "cell_type": "code",
   "execution_count": 19,
   "metadata": {},
   "outputs": [
    {
     "data": {
      "text/plain": [
       "2635"
      ]
     },
     "execution_count": 19,
     "metadata": {},
     "output_type": "execute_result"
    }
   ],
   "source": [
    "len(id_df)"
   ]
  },
  {
   "cell_type": "code",
   "execution_count": 20,
   "metadata": {},
   "outputs": [],
   "source": [
    "id_df = pd.read_csv(\"../data/idlist_all_instruments_standard.csv\", header=None)"
   ]
  },
  {
   "cell_type": "code",
   "execution_count": 21,
   "metadata": {},
   "outputs": [],
   "source": [
    "import dateutil.parser\n",
    "id_df['date'] = id_df[0].apply(lambda x: pd.to_datetime(x[0:15], format=\"%Y%m%d_%H%M%S\"))"
   ]
  },
  {
   "cell_type": "code",
   "execution_count": 22,
   "metadata": {},
   "outputs": [],
   "source": [
    "id_df['dove_type'] = id_df[0].apply(lambda x: x[-4:])"
   ]
  },
  {
   "cell_type": "code",
   "execution_count": 23,
   "metadata": {},
   "outputs": [
    {
     "data": {
      "text/plain": [
       "<matplotlib.axes._subplots.AxesSubplot at 0x7f7e4b903d60>"
      ]
     },
     "execution_count": 23,
     "metadata": {},
     "output_type": "execute_result"
    },
    {
     "data": {
      "image/png": "[encoded data removed]",
      "text/plain": [
       "<Figure size 432x288 with 1 Axes>"
      ]
     },
     "metadata": {
      "needs_background": "light"
     },
     "output_type": "display_data"
    }
   ],
   "source": [
    "id_df[\"date\"][(id_df['date'] > '2018-01-01') & (id_df['date'] < '2019-01-01')].groupby(id_df[\"date\"].dt.month).count().plot(kind=\"bar\")"
   ]
  },
  {
   "cell_type": "code",
   "execution_count": 24,
   "metadata": {},
   "outputs": [
    {
     "data": {
      "text/plain": [
       "<matplotlib.axes._subplots.AxesSubplot at 0x7f7e4de91700>"
      ]
     },
     "execution_count": 24,
     "metadata": {},
     "output_type": "execute_result"
    },
    {
     "data": {
      "image/png": "[encoded data removed]",
      "text/plain": [
       "<Figure size 432x288 with 1 Axes>"
      ]
     },
     "metadata": {
      "needs_background": "light"
     },
     "output_type": "display_data"
    }
   ],
   "source": [
    "id_df[\"date\"][(id_df['date'] > '2019-01-01') & (id_df['date'] < '2020-01-01')].groupby(id_df[\"date\"].dt.month).count().plot(kind=\"bar\")"
   ]
  },
  {
   "cell_type": "code",
   "execution_count": 25,
   "metadata": {},
   "outputs": [
    {
     "name": "stdout",
     "output_type": "stream",
     "text": [
      "usage: porder order [-h] --name NAME --idlist IDLIST --item ITEM --bundle\n",
      "                    BUNDLE [--sid SID] [--boundary BOUNDARY]\n",
      "                    [--projection PROJECTION] [--kernel KERNEL]\n",
      "                    [--compression COMPRESSION] [--aws AWS] [--azure AZURE]\n",
      "                    [--gcs GCS] [--op OP [OP ...]]\n",
      "\n",
      "optional arguments:\n",
      "  -h, --help            show this help message and exit\n",
      "\n",
      "Required named arguments.:\n",
      "  --name NAME           Order Name to be Submitted\n",
      "  --idlist IDLIST       CSV idlist with item IDs\n",
      "  --item ITEM           Item Type PSScene4Band|PSOrthoTile|REOrthoTile etc\n",
      "  --bundle BUNDLE       Bundle Type: analytic, analytic_sr,analytic_sr_udm2\n",
      "\n",
      "Optional named arguments:\n",
      "  --sid SID             Subscription ID\n",
      "  --boundary BOUNDARY   Boundary/geometry for clip operation geojson|json|kml\n",
      "  --projection PROJECTION\n",
      "                        Projection for reproject operation of type \"EPSG:4326\"\n",
      "  --kernel KERNEL       Resampling kernel used \"near\", \"bilinear\", \"cubic\",\n",
      "                        \"cubicspline\", \"lanczos\", \"average\" and \"mode\"\n",
      "  --compression COMPRESSION\n",
      "                        Compression type used for tiff_optimize tool,\n",
      "                        \"lzw\"|\"deflate\"\n",
      "  --aws AWS             AWS cloud credentials config yml file\n",
      "  --azure AZURE         Azure cloud credentials config yml file\n",
      "  --gcs GCS             GCS cloud credentials config yml file\n",
      "  --op OP [OP ...]      Add operations, delivery & notification clip|toar|harm\n",
      "                        onize|composite|zip|zipall|compression|projection|kern\n",
      "                        el|aws|azure|gcs|email <Choose indices from>:\n",
      "                        ndvi|gndvi|bndvi|ndwi|tvi|osavi|evi2|msavi2|sr\n"
     ]
    }
   ],
   "source": [
    "!porder order -h"
   ]
  },
  {
   "cell_type": "markdown",
   "metadata": {},
   "source": [
    "Below we submit the **idlist.csv** with the order command. **Make sure to copy the url that is returned** as we will use that in the download step. It should take about 5 minutes for the order to complete. We select the `analytic_sr_udm2` bundle, which comes with surface reflectance, metadata, and two versions of Planet's Usable Data Mask. There are many operations supported besides `email`, making this one of the more powerful commands for controlling the extent, quality, and kind of data you get back from Planet, so [check out the order documentation for more details](https://github.com/samapriya/porder#order)"
   ]
  },
  {
   "cell_type": "code",
   "execution_count": 26,
   "metadata": {},
   "outputs": [
    {
     "name": "stdout",
     "output_type": "stream",
     "text": [
      "Order created at https://api.planet.com/compute/ops/orders/v2/a40dbfbe-14f6-4f18-bcc8-a49b137d11a3 and url copied to clipboard\n"
     ]
    }
   ],
   "source": [
    "!porder order --name \"San Pedro Test Intersects with Landsat and Sentinel\" --idlist \"/home/rave/temporal_mixing/data/idlist_all_instruments_standard.csv\" --boundary \"/home/rave/temporal_mixing/data/san_pedro_smaller_section.geojson\" --item \"PSScene4Band\" --bundle \"analytic_sr_udm2\" --op harmonize clip zipall email"
   ]
  },
  {
   "cell_type": "markdown",
   "metadata": {},
   "source": [
    "You should receive an email when your order is complete, but you can also check on the status of your order with the following command. Initially it will show that an order is running for 1 user, when it is ready to download, it will show 0 running orders for user. You may see multiple folks running orders, in which case, check your email to see when the order you placed is complete."
   ]
  },
  {
   "cell_type": "code",
   "execution_count": 30,
   "metadata": {},
   "outputs": [
    {
     "name": "stdout",
     "output_type": "stream",
     "text": [
      "Checking on all running orders...\n",
      "\n",
      "Total queued order for organization: 0\n",
      "Total running orders for organization: 0\n",
      "\n",
      "Total queued orders for user: 0\n",
      "Total running orders for user: 0\n"
     ]
    }
   ],
   "source": [
    "!porder stats"
   ]
  },
  {
   "cell_type": "markdown",
   "metadata": {},
   "source": [
    "Once the order is complete, we can download it. This should go quick. You can copy the order id you receive in the email or the order url above and edit the order url below. If you get an `Key error` it is probably because you are running the below command with a different order URL."
   ]
  },
  {
   "cell_type": "code",
   "execution_count": 34,
   "metadata": {},
   "outputs": [
    {
     "name": "stdout",
     "output_type": "stream",
     "text": [
      "Polling ...\n",
      "Total of 1 download objects with download size of 17.79 GB\n"
     ]
    }
   ],
   "source": [
    "!porder ordersize --url \"https://api.planet.com/compute/ops/orders/v2/a40dbfbe-14f6-4f18-bcc8-a49b137d11a3\""
   ]
  },
  {
   "cell_type": "code",
   "execution_count": 35,
   "metadata": {},
   "outputs": [
    {
     "name": "stdout",
     "output_type": "stream",
     "text": [
      "usage: porder multiproc [-h] [--url URL] [--local LOCAL] [--ext EXT]\n",
      "\n",
      "optional arguments:\n",
      "  -h, --help     show this help message and exit\n",
      "  --url URL      order url you got for your order\n",
      "  --local LOCAL  Output folder where ordered files will be exported\n",
      "\n",
      "Optional named arguments:\n",
      "  --ext EXT      File Extension to download\n"
     ]
    }
   ],
   "source": [
    "!porder multiproc -h"
   ]
  },
  {
   "cell_type": "code",
   "execution_count": 36,
   "metadata": {},
   "outputs": [
    {
     "name": "stdout",
     "output_type": "stream",
     "text": [
      "Polling with exponential backoff..\n",
      "Order completed with status: success\n",
      "Processing a url list with 2 items\n",
      "\n",
      "\n",
      "File                                                                                                 Completed at        \n",
      "San_Pedro_Test_Intersects_with_Landsat_and_Sentinel_2019-12-10_manifest.json                          0.99s              \n",
      "San_Pedro_Test_Intersects_with_Landsat_and_Sentinel_2019-12-10.zip                                   1247.42s            \n"
     ]
    }
   ],
   "source": [
    "!porder multiproc --url \"https://api.planet.com/compute/ops/orders/v2/a40dbfbe-14f6-4f18-bcc8-a49b137d11a3\" --local \"/home/rave/temporal_mixing/data/downloads\""
   ]
  },
  {
   "cell_type": "code",
   "execution_count": null,
   "metadata": {},
   "outputs": [],
   "source": [
    "import xarray as xa\n",
    "import rioxarray\n",
    "%matplotlib inline\n",
    "xa.set_options(display_style = \"text\")"
   ]
  },
  {
   "cell_type": "code",
   "execution_count": null,
   "metadata": {},
   "outputs": [],
   "source": [
    "san_pedro_sr = xa.open_rasterio(\"data/20190606_164931_104b_3B_AnalyticMS_SR.tif\")\n",
    "san_pedro_sr"
   ]
  },
  {
   "cell_type": "code",
   "execution_count": null,
   "metadata": {},
   "outputs": [],
   "source": [
    "san_pedro_sr_bgr = san_pedro_sr.sel(band=slice(1,3)) # we make a new variable, keeping the blue, green, and red bands"
   ]
  },
  {
   "cell_type": "code",
   "execution_count": null,
   "metadata": {},
   "outputs": [],
   "source": [
    "san_pedro_sr_rgb = san_pedro_sr_bgr[::-1, ...] # reversing the order of the band axis from bgr to rgb"
   ]
  },
  {
   "cell_type": "markdown",
   "metadata": {},
   "source": [
    "The in python we can use xarray's `imshow` function to plot single band or rgb data. `robust=True` clips the visualization to the minimum and maximum values in the dataset."
   ]
  },
  {
   "cell_type": "code",
   "execution_count": null,
   "metadata": {},
   "outputs": [],
   "source": [
    "%matplotlib inline\n",
    "subset = san_pedro_sr_rgb[:,2000:3000,2000:3000]\n",
    "subset.plot.imshow(robust=True)"
   ]
  },
  {
   "cell_type": "code",
   "execution_count": null,
   "metadata": {},
   "outputs": [],
   "source": [
    "import pandas as pd\n",
    "pd.read_json(\"data/20190606_164931_104b_metadata.json\").drop(\"geometry\", axis=1)"
   ]
  },
  {
   "cell_type": "code",
   "execution_count": null,
   "metadata": {},
   "outputs": [],
   "source": []
  }
 ],
 "metadata": {
  "kernelspec": {
   "display_name": "Python [conda env:porder-test]",
   "language": "python",
   "name": "conda-env-porder-test-py"
  },
  "language_info": {
   "codemirror_mode": {
    "name": "ipython",
    "version": 3
   },
   "file_extension": ".py",
   "mimetype": "text/x-python",
   "name": "python",
   "nbconvert_exporter": "python",
   "pygments_lexer": "ipython3",
   "version": "3.8.0"
  }
 },
 "nbformat": 4,
 "nbformat_minor": 4
}
