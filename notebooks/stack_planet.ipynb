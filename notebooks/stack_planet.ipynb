{
 "cells": [
  {
   "cell_type": "code",
   "execution_count": null,
   "metadata": {},
   "outputs": [],
   "source": [
    "from pathlib import Path\n",
    "import rioxarray as rx\n",
    "import xarray as xr\n",
    "import geopandas as gpd\n",
    "from geocube.api.core import make_geocube\n",
    "import os\n",
    "os.chdir(\"/home/rave/temporal_mixing\")\n",
    "\n",
    "def list_downloaded_sr_paths(data_path):\n",
    "    scene_paths = list(data_path.glob(\"*udm2\"))\n",
    "    sr_paths = []\n",
    "    for path in scene_paths:\n",
    "        sr_path = next(path.glob(\"files/*SR_clip.tif\"))\n",
    "        sr_paths.append(sr_path)\n",
    "    return sr_paths\n",
    "\n",
    "def reproject_path_lists(scene_paths, aoi_xarr):\n",
    "    \"\"\"aoi_xarr is converted gdf to rioxarray Datarray, reprojects all scenes onto same grid\n",
    "    \"\"\"\n",
    "    matched_scene_xarrs = []\n",
    "    for path in scene_paths:\n",
    "        scene_xarr = rx.open_rasterio(path, masked=True)\n",
    "        scene_xarr_matched = scene_xarr.rio.reproject_match(aoi_xarr)\n",
    "        matched_scene_xarrs.append(scene_xarr_matched)\n",
    "    return matched_scene_xarrs\n",
    "\n",
    "data_path = Path(\"data/downloads\")\n",
    "sr_paths = list_downloaded_sr_paths(data_path)\n",
    "\n",
    "san_pedro_aoi = gpd.read_file(\"data/san_pedro_smaller_section.geojson\")\n",
    "san_pedro_aoi[\"id\"] = 1\n",
    "\n",
    "#gdf to xarr for reprojecting and grid coordinate matching\n",
    "aoi_xarr = make_geocube(san_pedro_aoi, resolution=(3.0, -3.0), output_crs= \"EPSG:32612\", measurements= [\"id\"])\n",
    "aoi_xarr = aoi_xarr[\"id\"]"
   ]
  },
  {
   "cell_type": "code",
   "execution_count": null,
   "metadata": {},
   "outputs": [],
   "source": [
    "scene_xarrs_list = reproject_path_lists(sr_path, aoi_xarr)"
   ]
  },
  {
   "cell_type": "code",
   "execution_count": null,
   "metadata": {},
   "outputs": [],
   "source": [
    "# should scenes on same day be merged together? prbly. first need to determine if there are duplicates\n",
    "stacked_planet_scenes = xr.concat(scene_xarrs_list, dim=\"scene\")"
   ]
  },
  {
   "cell_type": "code",
   "execution_count": null,
   "metadata": {},
   "outputs": [],
   "source": [
    "stacked_planet_scenes.rio.to_raster(\"outputs/stacked_planet_2018_06_2019_06.tif\")"
   ]
  },
  {
   "cell_type": "code",
   "execution_count": null,
   "metadata": {},
   "outputs": [],
   "source": []
  },
  {
   "cell_type": "code",
   "execution_count": null,
   "metadata": {},
   "outputs": [],
   "source": [
    "test_0 = rx.open_rasterio(sr_paths[0]).sel(band=slice(1,3))\n",
    "test_0.plot.imshow(robust=True)"
   ]
  },
  {
   "cell_type": "code",
   "execution_count": null,
   "metadata": {},
   "outputs": [],
   "source": [
    "test_100 = rx.open_rasterio(sr_paths[100])\n",
    "test_100.sel(band=slice(1,3)).plot.imshow(robust=True)"
   ]
  },
  {
   "cell_type": "code",
   "execution_count": null,
   "metadata": {},
   "outputs": [],
   "source": [
    "test_100.rio.reproject_match(test_0).plot.imshow(robust=True)"
   ]
  },
  {
   "cell_type": "code",
   "execution_count": null,
   "metadata": {},
   "outputs": [],
   "source": [
    "test_100_match = test_100.rio.reproject_match(aoi_xarr)"
   ]
  },
  {
   "cell_type": "code",
   "execution_count": null,
   "metadata": {},
   "outputs": [],
   "source": [
    "test_100_match.plot.imshow(robust=True)"
   ]
  }
 ],
 "metadata": {
  "kernelspec": {
   "display_name": "Python [conda env:temporal_mixing]",
   "language": "python",
   "name": "conda-env-temporal_mixing-py"
  },
  "language_info": {
   "codemirror_mode": {
    "name": "ipython",
    "version": 3
   },
   "file_extension": ".py",
   "mimetype": "text/x-python",
   "name": "python",
   "nbconvert_exporter": "python",
   "pygments_lexer": "ipython3",
   "version": "3.6.7"
  }
 },
 "nbformat": 4,
 "nbformat_minor": 4
}
