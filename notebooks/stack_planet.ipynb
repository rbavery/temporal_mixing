{
 "cells": [
  {
   "cell_type": "code",
   "execution_count": 2,
   "metadata": {},
   "outputs": [
    {
     "name": "stdout",
     "output_type": "stream",
     "text": [
      "Bundle type: all\n",
      "basic_udm, analytic_dn, analytic_dn_xml, udm, analytic, analytic_xml, basic_analytic, basic_analytic_rpc, basic_analytic_xml, basic_analytic_dn, basic_analytic_dn_xml, analytic_sr\n",
      "\n",
      "Bundle type: all_udm2\n",
      "basic_udm, basic_udm2, analytic_dn, analytic_dn_xml, udm, udm2, analytic, analytic_xml, basic_analytic, basic_analytic_rpc, basic_analytic_xml, basic_analytic_dn, basic_analytic_dn_xml, analytic_sr\n",
      "\n",
      "Bundle type: analytic\n",
      "analytic, analytic_xml, udm\n",
      "\n",
      "Bundle type: analytic_sr\n",
      "analytic_sr, udm, analytic_xml\n",
      "\n",
      "Bundle type: analytic_sr_udm2\n",
      "analytic_sr, analytic_xml, udm, udm2\n",
      "\n",
      "Bundle type: analytic_udm2\n",
      "analytic, analytic_xml, udm, udm2\n",
      "\n",
      "Bundle type: basic_analytic\n",
      "basic_analytic, basic_udm, basic_analytic_rpc, basic_analytic_xml\n",
      "\n",
      "Bundle type: basic_analytic_nitf\n",
      "basic_analytic_nitf, basic_analytic_rpc_nitf, basic_analytic_xml_nitf, basic_udm\n",
      "\n",
      "Bundle type: basic_analytic_nitf_udm2\n",
      "basic_analytic_nitf, basic_analytic_rpc_nitf, basic_analytic_xml_nitf, basic_udm, basic_udm2\n",
      "\n",
      "Bundle type: basic_analytic_udm2\n",
      "basic_analytic, basic_udm, basic_udm2, basic_analytic_rpc, basic_analytic_xml\n",
      "\n",
      "Bundle type: basic_uncalibrated_dn\n",
      "basic_analytic_dn, basic_analytic_dn_xml, basic_udm, basic_analytic_rpc\n",
      "\n",
      "Bundle type: basic_uncalibrated_dn_nitf\n",
      "basic_analytic_dn_nitf, basic_analytic_dn_xml_nitf, basic_analytic_dn_rpc_nitf, basic_udm\n",
      "\n",
      "Bundle type: basic_uncalibrated_dn_nitf_udm2\n",
      "basic_analytic_dn_nitf, basic_analytic_dn_xml_nitf, basic_analytic_dn_rpc_nitf, basic_udm, basic_udm2\n",
      "\n",
      "Bundle type: basic_uncalibrated_dn_udm2\n",
      "basic_analytic_dn, basic_analytic_dn_xml, basic_udm, basic_udm2, basic_analytic_rpc\n",
      "\n",
      "Bundle type: uncalibrated_dn\n",
      "analytic_dn, analytic_dn_xml, udm\n",
      "\n",
      "Bundle type: uncalibrated_dn_udm2\n",
      "analytic_dn, analytic_dn_xml, udm, udm2\n",
      "\n"
     ]
    }
   ],
   "source": [
    "!porder bundles --item \"PSScene4Band\""
   ]
  },
  {
   "cell_type": "code",
   "execution_count": null,
   "metadata": {},
   "outputs": [],
   "source": []
  }
 ],
 "metadata": {
  "kernelspec": {
   "display_name": "Python [conda env:porder-test]",
   "language": "python",
   "name": "conda-env-porder-test-py"
  },
  "language_info": {
   "codemirror_mode": {
    "name": "ipython",
    "version": 3
   },
   "file_extension": ".py",
   "mimetype": "text/x-python",
   "name": "python",
   "nbconvert_exporter": "python",
   "pygments_lexer": "ipython3",
   "version": "3.8.0"
  }
 },
 "nbformat": 4,
 "nbformat_minor": 4
}
